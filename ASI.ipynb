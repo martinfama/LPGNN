{
 "cells": [
  {
   "cell_type": "code",
   "execution_count": 1,
   "metadata": {},
   "outputs": [],
   "source": [
    "import warnings\n",
    "warnings.filterwarnings('ignore')"
   ]
  },
  {
   "cell_type": "code",
   "execution_count": 2,
   "metadata": {},
   "outputs": [
    {
     "name": "stderr",
     "output_type": "stream",
     "text": [
      "2022-09-05 16:05:15.940918: W tensorflow/stream_executor/platform/default/dso_loader.cc:64] Could not load dynamic library 'libcudart.so.11.0'; dlerror: libcudart.so.11.0: cannot open shared object file: No such file or directory\n",
      "2022-09-05 16:05:15.940958: I tensorflow/stream_executor/cuda/cudart_stub.cc:29] Ignore above cudart dlerror if you do not have a GPU set up on your machine.\n"
     ]
    }
   ],
   "source": [
    "import importlib\n",
    "\n",
    "import numpy as np\n",
    "import pandas as pd\n",
    "import matplotlib.pyplot as plt\n",
    "import torch as th\n",
    "import networkx as nx\n",
    "import torch_geometric as pyg\n",
    "\n",
    "import LPGNN"
   ]
  },
  {
   "cell_type": "markdown",
   "metadata": {},
   "source": [
    "## Load ASI network"
   ]
  },
  {
   "cell_type": "code",
   "execution_count": 7,
   "metadata": {},
   "outputs": [],
   "source": [
    "ASI = th.Tensor(np.loadtxt('Network_Files/ASI_t0.txt')).T.type(th.int64)\n",
    "ASI = ASI-1 # Convert to 0-indexing\n",
    "ASI = pyg.utils.to_undirected(ASI)\n",
    "ASI = pyg.data.Data(edge_index=ASI)\n",
    "ASI.num_nodes = ASI.num_nodes\n",
    "\n",
    "# Second snapshot, which we consider to be the test set.\n",
    "ASI_test = th.Tensor(np.loadtxt('Network_Files/ASI_t1.txt')).T.type(th.int64)\n",
    "ASI_test = ASI_test-1\n",
    "\n",
    "# remove edges in test set which are also in training set\n",
    "ASI_test_temp = th.Tensor([[-1,-1]])\n",
    "for edge in ASI_test.T:\n",
    "    if len(th.where((edge == ASI.edge_index.T).all(dim=1))[0]) == 0:\n",
    "        ASI_test_temp = th.cat((ASI_test_temp, edge.view(1,2)), dim=0)\n",
    "ASI_test = ASI_test_temp[1:].T.long()\n",
    "ASI.test_pos_edge_label_index = ASI_test"
   ]
  },
  {
   "cell_type": "code",
   "execution_count": 11,
   "metadata": {},
   "outputs": [
    {
     "name": "stdout",
     "output_type": "stream",
     "text": [
      "N° of nodes:       24,091\n",
      "N° of train edges: 59,531.0\n",
      "N° of test edges:  48,119\n"
     ]
    }
   ],
   "source": [
    "# print ASI number of nodes, number of edges in training set, number of edges in test set, with nice formatting in three lines\n",
    "print('N° of nodes:       {:,}'.format(ASI.num_nodes))\n",
    "print('N° of train edges: {:,}'.format(ASI.edge_index.shape[1]/2))\n",
    "print('N° of test edges:  {:,}'.format(ASI.test_pos_edge_label_index.shape[1]))"
   ]
  },
  {
   "cell_type": "markdown",
   "metadata": {},
   "source": [
    "### Generate LaBNE ASI network. Then, get precision and recall curve by calculating the distance matrix between all nodes."
   ]
  },
  {
   "cell_type": "code",
   "execution_count": null,
   "metadata": {},
   "outputs": [],
   "source": [
    "ASI_LaBNE = LPGNN.labne.generateLaBNE(ASI, edge_index='edge_index', normalize_radius=False)\n",
    "ASI_R_LaBNE, ASI_P_LaBNE = LPGNN.LinkPrediction.precision_recall_score_file(ASI_LaBNE, position_name='LaBNE_node_polar_positions', filename='data/Distance_Lists/ASI_LaBNE', chunk_size=200000, skip_file_prep=True, step_size=10000)"
   ]
  }
 ],
 "metadata": {
  "kernelspec": {
   "display_name": "Python 3.8.12 ('MachineLearning')",
   "language": "python",
   "name": "python3"
  },
  "language_info": {
   "codemirror_mode": {
    "name": "ipython",
    "version": 3
   },
   "file_extension": ".py",
   "mimetype": "text/x-python",
   "name": "python",
   "nbconvert_exporter": "python",
   "pygments_lexer": "ipython3",
   "version": "3.8.12"
  },
  "orig_nbformat": 4,
  "vscode": {
   "interpreter": {
    "hash": "9541779ff281394516091705a7614e4b3d600f65c1eabab6e2bc15f176e5eb32"
   }
  }
 },
 "nbformat": 4,
 "nbformat_minor": 2
}
