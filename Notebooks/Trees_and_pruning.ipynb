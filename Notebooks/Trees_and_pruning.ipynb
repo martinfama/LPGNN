{
 "cells": [
  {
   "cell_type": "code",
   "execution_count": 1,
   "metadata": {},
   "outputs": [],
   "source": [
    "import os\n",
    "import sys\n",
    "module_path = os.path.abspath(os.path.join('..'))\n",
    "if module_path not in sys.path:\n",
    "    sys.path.append(module_path)"
   ]
  },
  {
   "cell_type": "code",
   "execution_count": 2,
   "metadata": {},
   "outputs": [
    {
     "name": "stderr",
     "output_type": "stream",
     "text": [
      "2022-11-01 01:49:26.527483: W tensorflow/stream_executor/platform/default/dso_loader.cc:64] Could not load dynamic library 'libcudart.so.11.0'; dlerror: libcudart.so.11.0: cannot open shared object file: No such file or directory\n",
      "2022-11-01 01:49:26.527524: I tensorflow/stream_executor/cuda/cudart_stub.cc:29] Ignore above cudart dlerror if you do not have a GPU set up on your machine.\n"
     ]
    }
   ],
   "source": [
    "import warnings\n",
    "warnings.filterwarnings('ignore')\n",
    "\n",
    "import importlib\n",
    "\n",
    "import numpy as np\n",
    "import matplotlib.pyplot as plt\n",
    "import networkx as nx\n",
    "\n",
    "import torch as th\n",
    "import torch_geometric as pyg\n",
    "\n",
    "import pandas as pd\n",
    "import pickle\n",
    "\n",
    "import LPGNN"
   ]
  },
  {
   "cell_type": "code",
   "execution_count": 3,
   "metadata": {},
   "outputs": [
    {
     "data": {
      "text/plain": [
       "<module 'LPGNN.DataSetup' from '/home/mf/Documents/IB/Tesis/Maestria/LPGNN/LPGNN/DataSetup.py'>"
      ]
     },
     "execution_count": 3,
     "metadata": {},
     "output_type": "execute_result"
    }
   ],
   "source": [
    "importlib.reload(LPGNN.popularity_similarity)\n",
    "importlib.reload(LPGNN.poincare_embedding)\n",
    "importlib.reload(LPGNN.distances)\n",
    "importlib.reload(LPGNN.LinkPrediction)\n",
    "importlib.reload(LPGNN.DataSetup)"
   ]
  },
  {
   "cell_type": "code",
   "execution_count": 4,
   "metadata": {},
   "outputs": [],
   "source": [
    "def gromov(G):\n",
    "    node_tuple = np.random.choice(G.nodes(), 4, replace=False)\n",
    "    try:\n",
    "        d01 = nx.shortest_path_length(G, source=node_tuple[0], target=node_tuple[1], weight=None)\n",
    "        d23 = nx.shortest_path_length(G, source=node_tuple[2], target=node_tuple[3], weight=None)\n",
    "        d02 = nx.shortest_path_length(G, source=node_tuple[0], target=node_tuple[2], weight=None)\n",
    "        d13 = nx.shortest_path_length(G, source=node_tuple[1], target=node_tuple[3], weight=None)\n",
    "        d03 = nx.shortest_path_length(G, source=node_tuple[0], target=node_tuple[3], weight=None)\n",
    "        d12 = nx.shortest_path_length(G, source=node_tuple[1], target=node_tuple[2], weight=None)\n",
    "\n",
    "        s = [d01 + d23, d02 + d13, d03 + d12]\n",
    "        s.sort()\n",
    "        return (s[-1] - s[-2]) / 2\n",
    "    except Exception as e:\n",
    "        print('No shortest path')\n",
    "        return None\n",
    "\n",
    "def sample_hyperbolicity(G, num_samples=5000):\n",
    "    hyps = []\n",
    "    for i in range(num_samples):\n",
    "        hyps.append(gromov(G))\n",
    "\n",
    "    return np.mean(hyps)"
   ]
  },
  {
   "cell_type": "code",
   "execution_count": 5,
   "metadata": {},
   "outputs": [],
   "source": [
    "N = 500\n",
    "avg_k = 6\n",
    "gamma = 2.7"
   ]
  },
  {
   "cell_type": "code",
   "execution_count": 8,
   "metadata": {},
   "outputs": [
    {
     "name": "stdout",
     "output_type": "stream",
     "text": [
      "gamma = 3.00, avg_k = 12, T = 4.00, rep = 01"
     ]
    }
   ],
   "source": [
    "T = np.linspace(0, 4, 20)\n",
    "AVG_K = [4, 8, 10, 12]\n",
    "GAMMA = np.linspace(2, 3, 11)\n",
    "reps = 2\n",
    "\n",
    "for gamma in GAMMA:\n",
    "    for avg_k in AVG_K:\n",
    "        hyps = []\n",
    "        for t in T:\n",
    "            _ = 0\n",
    "            for rep in range(reps):\n",
    "                print(f'\\rgamma = {gamma:.2f}, avg_k = {avg_k:02}, T = {t:.2f}, rep = {rep:02}', end='')\n",
    "                PS = LPGNN.popularity_similarity.generatePSNetwork(N, avg_k, gamma, T=t, seed=t*reps)\n",
    "                PS_nx = nx.Graph((pyg.utils.to_networkx(PS)), undirected=True)\n",
    "                _ += sample_hyperbolicity(PS_nx)\n",
    "            hyps.append(_/reps)\n",
    "        with open(f'../data/Hyperbolicity/g_vs_T_N_{N}_avg_k_{avg_k}_gamma_{gamma}.hyp', 'wb') as f:\n",
    "            pickle.dump([T, hyps], f)"
   ]
  },
  {
   "cell_type": "code",
   "execution_count": 27,
   "metadata": {},
   "outputs": [
    {
     "data": {
      "text/plain": [
       "[<matplotlib.lines.Line2D at 0x7f76dc6bc100>]"
      ]
     },
     "execution_count": 27,
     "metadata": {},
     "output_type": "execute_result"
    },
    {
     "data": {
      "image/png": "[encoded data removed]",
      "text/plain": [
       "<Figure size 432x288 with 1 Axes>"
      ]
     },
     "metadata": {
      "needs_background": "light"
     },
     "output_type": "display_data"
    }
   ],
   "source": [
    "plt.plot(T, hyps)"
   ]
  }
 ],
 "metadata": {
  "kernelspec": {
   "display_name": "Python 3.8.12 ('MachineLearning')",
   "language": "python",
   "name": "python3"
  },
  "language_info": {
   "codemirror_mode": {
    "name": "ipython",
    "version": 3
   },
   "file_extension": ".py",
   "mimetype": "text/x-python",
   "name": "python",
   "nbconvert_exporter": "python",
   "pygments_lexer": "ipython3",
   "version": "3.8.12"
  },
  "orig_nbformat": 4,
  "vscode": {
   "interpreter": {
    "hash": "9541779ff281394516091705a7614e4b3d600f65c1eabab6e2bc15f176e5eb32"
   }
  }
 },
 "nbformat": 4,
 "nbformat_minor": 2
}
