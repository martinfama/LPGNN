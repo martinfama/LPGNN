{
 "cells": [
  {
   "cell_type": "code",
   "execution_count": 62,
   "metadata": {},
   "outputs": [],
   "source": [
    "import sys\n",
    "\n",
    "import matplotlib.pyplot as plt\n",
    "import numpy as np\n",
    "import pandas as pd\n",
    "import torch as th\n",
    "# import torchmetrics as thm\n",
    "import LPGNN\n",
    "import igraph as ig\n",
    "import networkx as nx\n",
    "import torch_geometric as pyg\n",
    "\n",
    "import pyarrow as pa\n",
    "import pyarrow.parquet as pq\n",
    "\n",
    "import importlib\n",
    "import powerlaw\n",
    "\n",
    "import imageio\n",
    "\n",
    "from tqdm import tqdm"
   ]
  },
  {
   "cell_type": "code",
   "execution_count": 88,
   "metadata": {},
   "outputs": [
    {
     "data": {
      "text/plain": [
       "<module 'LPGNN.LinkPrediction' from '/home/mf/Documents/IB/Tesis/Maestria/LPGNN/LPGNN/LinkPrediction.py'>"
      ]
     },
     "execution_count": 88,
     "metadata": {},
     "output_type": "execute_result"
    }
   ],
   "source": [
    "importlib.reload(LPGNN.popularity_similarity)\n",
    "importlib.reload(LPGNN.embedding)\n",
    "importlib.reload(LPGNN.poincare_embedding)\n",
    "importlib.reload(LPGNN.distances)\n",
    "importlib.reload(LPGNN.visualization.degree_distribution)\n",
    "importlib.reload(LPGNN.visualization)\n",
    "importlib.reload(LPGNN.utils)\n",
    "importlib.reload(LPGNN.labne)\n",
    "importlib.reload(LPGNN.graph_metrics)\n",
    "importlib.reload(LPGNN.DataSetup)\n",
    "importlib.reload(LPGNN.tree_pruning)\n",
    "importlib.reload(LPGNN.LinkPrediction)"
   ]
  },
  {
   "cell_type": "code",
   "execution_count": null,
   "metadata": {},
   "outputs": [],
   "source": [
    "class bcolors:\n",
    "    HEADER = '\\033[95m'\n",
    "    OKBLUE = '\\033[94m'\n",
    "    OKCYAN = '\\033[96m'\n",
    "    OKGREEN = '\\033[92m'\n",
    "    WARNING = '\\033[93m'\n",
    "    FAIL = '\\033[91m'\n",
    "    ENDC = '\\033[0m'\n",
    "    BOLD = '\\033[1m'\n",
    "    UNDERLINE = '\\033[4m'\n"
   ]
  },
  {
   "cell_type": "code",
   "execution_count": 63,
   "metadata": {},
   "outputs": [],
   "source": [
    "th.set_default_tensor_type(th.DoubleTensor)"
   ]
  },
  {
   "cell_type": "code",
   "execution_count": 64,
   "metadata": {},
   "outputs": [],
   "source": [
    "# generate a tensor of 20 points in dimension N=3, with a radius of 1\n",
    "N = 3\n",
    "n_points = 5\n",
    "r = th.Tensor(n_points).uniform_(0, 1)\n",
    "angulars = th.Tensor(n_points, N-1).uniform_(0, 2*np.pi)\n",
    "x = th.cat([r.unsqueeze(1), angulars], dim=1)\n",
    "x = LPGNN.distances.to_cartesian(x)"
   ]
  },
  {
   "cell_type": "code",
   "execution_count": 115,
   "metadata": {},
   "outputs": [],
   "source": [
    "x[0][0] = .9999999\n",
    "x[0][1] = 0.0\n",
    "x[0][2] = 0.0\n",
    "\n",
    "x[1][0] = -0.999999978\n",
    "x[1][1] = 0.0\n",
    "x[1][2] = 0.0"
   ]
  },
  {
   "cell_type": "code",
   "execution_count": 116,
   "metadata": {},
   "outputs": [],
   "source": [
    "def poincare_dist(u:th.Tensor, v:th.Tensor):\n",
    "    \"\"\" Compute the Poincare distance between two vectors. \"\"\"\n",
    "    sqdist = th.sum((u - v) ** 2, dim=-1) \n",
    "    squnorm = th.sum(u ** 2, dim=-1)\n",
    "    sqvnorm = th.sum(v ** 2, dim=-1) \n",
    "    d = 2 * sqdist / ((1 - squnorm) * (1 - sqvnorm) + sqdist)\n",
    "    return 2 * th.log( (th.sqrt(sqdist) + th.sqrt(squnorm*sqvnorm - 2*th.dot(u,v) + 1)) / th.sqrt((1-squnorm)*(1-sqvnorm)) )\n",
    "    #return 2 * th.arcsinh(d/2)\n",
    "    x = 1 + 2 * sqdist / ((1 - squnorm) * (1 - sqvnorm)) + 1e-15\n",
    "    z = th.sqrt(x ** 2 - 1)\n",
    "    return th.log(x + z)\n",
    "    # sqdist = max_r**2 * th.sum((u - v) ** 2, dim=-1)\n",
    "    # squnorm = max_r**2 - th.sum(u ** 2, dim=-1)\n",
    "    # sqvnorm = max_r**2 - th.sum(v ** 2, dim=-1)"
   ]
  },
  {
   "cell_type": "code",
   "execution_count": 117,
   "metadata": {},
   "outputs": [
    {
     "name": "stdout",
     "output_type": "stream",
     "text": [
      "35.1366 17.3176 18.4515 18.6089  \n",
      "        18.5016 16.8820 16.7013  \n",
      "                01.6929 02.0493  \n",
      "                        00.7662  \n",
      "                                 \n"
     ]
    }
   ],
   "source": [
    "for i in range(n_points):\n",
    "    for j in range(i):\n",
    "        print('        ', end='')\n",
    "    for j in range(i+1, n_points):\n",
    "        t = LPGNN.distances.poincare_dist(x[i], x[j])\n",
    "        print('%07.4f'%t.item(), end=' ')\n",
    "    print(' ')"
   ]
  },
  {
   "cell_type": "code",
   "execution_count": 118,
   "metadata": {},
   "outputs": [
    {
     "name": "stdout",
     "output_type": "stream",
     "text": [
      "0 1 35.1366 35.1366\n",
      "0 2 17.3176 17.3176\n",
      "0 3 18.4515 18.4515\n",
      "0 4 18.6089 18.6089\n",
      "1 2 18.5016 18.5016\n",
      "1 3 16.8820 16.8820\n",
      "1 4 16.7013 16.7013\n",
      "2 3 01.6929 01.6929\n",
      "2 4 02.0493 02.0493\n",
      "3 4 00.7662 00.7662\n"
     ]
    }
   ],
   "source": [
    "for i in range(n_points):\n",
    "    for j in range(i+1, n_points):\n",
    "        t = LPGNN.distances.poincare_dist(x[i], x[j])\n",
    "        t_ = poincare_dist(x[i], x[j])\n",
    "        print(i,j,'%07.4f'%t.item(), '%07.4f'%t_.item())"
   ]
  },
  {
   "cell_type": "code",
   "execution_count": 201,
   "metadata": {},
   "outputs": [
    {
     "name": "stdout",
     "output_type": "stream",
     "text": [
      "tensor(4.)\n",
      "tensor(1.0000)\n",
      "tensor(1.)\n",
      "tensor(inf)\n",
      "tensor(inf)\n"
     ]
    },
    {
     "data": {
      "text/plain": [
       "tensor(inf)"
      ]
     },
     "execution_count": 201,
     "metadata": {},
     "output_type": "execute_result"
    }
   ],
   "source": [
    "LPGNN.distances.poincare_dist(x[0], x[1])"
   ]
  },
  {
   "cell_type": "code",
   "execution_count": 197,
   "metadata": {},
   "outputs": [
    {
     "data": {
      "text/plain": [
       "347.80893175792784"
      ]
     },
     "execution_count": 197,
     "metadata": {},
     "output_type": "execute_result"
    }
   ],
   "source": [
    "np.log(2*5.6295e150)"
   ]
  },
  {
   "cell_type": "code",
   "execution_count": 12,
   "metadata": {},
   "outputs": [],
   "source": [
    "x = x.float"
   ]
  },
  {
   "cell_type": "code",
   "execution_count": 19,
   "metadata": {},
   "outputs": [],
   "source": [
    "x = x.double()"
   ]
  },
  {
   "cell_type": "code",
   "execution_count": 26,
   "metadata": {},
   "outputs": [],
   "source": [
    "x[0][0] = 1.12345678910111213141516"
   ]
  },
  {
   "cell_type": "code",
   "execution_count": 27,
   "metadata": {},
   "outputs": [
    {
     "data": {
      "text/plain": [
       "1.1234567891011122"
      ]
     },
     "execution_count": 27,
     "metadata": {},
     "output_type": "execute_result"
    }
   ],
   "source": [
    "x[0][0].item()"
   ]
  },
  {
   "cell_type": "code",
   "execution_count": 60,
   "metadata": {},
   "outputs": [],
   "source": [
    "x = th.tensor(1., requires_grad=True)\n",
    "y = th.tensor(2., requires_grad=True)\n",
    "z = th.tensor(3., requires_grad=True)\n",
    "\n",
    "f = x**2 + y**3 + th.cos(z)\n",
    "g = th.sin(x)\n",
    "h = f*g\n",
    "\n",
    "# calculate partial derivatives\n",
    "df_dx = th.autograd.grad(f, x, create_graph=True)[0]"
   ]
  },
  {
   "cell_type": "code",
   "execution_count": 61,
   "metadata": {},
   "outputs": [
    {
     "data": {
      "text/plain": [
       "tensor(2., grad_fn=<MulBackward0>)"
      ]
     },
     "execution_count": 61,
     "metadata": {},
     "output_type": "execute_result"
    }
   ],
   "source": []
  },
  {
   "cell_type": "code",
   "execution_count": 57,
   "metadata": {},
   "outputs": [],
   "source": [
    "h.backward()"
   ]
  },
  {
   "cell_type": "code",
   "execution_count": 58,
   "metadata": {},
   "outputs": [
    {
     "data": {
      "text/plain": [
       "tensor(6.7402, grad_fn=<MulBackward0>)"
      ]
     },
     "execution_count": 58,
     "metadata": {},
     "output_type": "execute_result"
    }
   ],
   "source": [
    "h"
   ]
  },
  {
   "cell_type": "markdown",
   "metadata": {},
   "source": [
    "Since $f = x^2 + y^2$, $g = \\cos(z)$ and $h = fg$, then using backpropagation we have\n",
    "\n",
    "$$ \\frac{dh}{dx} = \\frac{dh}{df} \\frac{df}{dx} + \\frac{dh}{dg} \\frac{dg}{dx} = 2x + 0 = 2x$$\n",
    "\n",
    "$$ \\frac{dh}{dy} = \\frac{dh}{df} \\frac{df}{dy} + \\frac{dh}{dg} \\frac{dg}{dy} = 3y^2 + 0 = 3y^2$$\n",
    "\n",
    "$$ \\frac{dh}{dz} = \\frac{dh}{df} \\frac{df}{dz} + \\frac{dh}{dg} \\frac{dg}{dz} = 0 + -\\sin(z) = -\\sin(z)$$"
   ]
  },
  {
   "cell_type": "code",
   "execution_count": 59,
   "metadata": {},
   "outputs": [
    {
     "data": {
      "text/plain": [
       "(tensor(6.0108), tensor(10.0977), tensor(-0.1187))"
      ]
     },
     "execution_count": 59,
     "metadata": {},
     "output_type": "execute_result"
    }
   ],
   "source": [
    "x.grad, y.grad, z.grad"
   ]
  },
  {
   "cell_type": "code",
   "execution_count": 54,
   "metadata": {},
   "outputs": [
    {
     "data": {
      "text/plain": [
       "(tensor(12., grad_fn=<MulBackward0>),\n",
       " tensor(2., grad_fn=<MulBackward0>),\n",
       " tensor(-0.1411, grad_fn=<NegBackward0>))"
      ]
     },
     "execution_count": 54,
     "metadata": {},
     "output_type": "execute_result"
    }
   ],
   "source": []
  },
  {
   "cell_type": "code",
   "execution_count": null,
   "metadata": {},
   "outputs": [],
   "source": []
  }
 ],
 "metadata": {
  "kernelspec": {
   "display_name": "Python 3.8.12 ('MachineLearning')",
   "language": "python",
   "name": "python3"
  },
  "language_info": {
   "codemirror_mode": {
    "name": "ipython",
    "version": 3
   },
   "file_extension": ".py",
   "mimetype": "text/x-python",
   "name": "python",
   "nbconvert_exporter": "python",
   "pygments_lexer": "ipython3",
   "version": "3.8.12"
  },
  "orig_nbformat": 4,
  "vscode": {
   "interpreter": {
    "hash": "9541779ff281394516091705a7614e4b3d600f65c1eabab6e2bc15f176e5eb32"
   }
  }
 },
 "nbformat": 4,
 "nbformat_minor": 2
}
