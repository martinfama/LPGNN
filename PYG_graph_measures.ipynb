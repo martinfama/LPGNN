{
 "cells": [
  {
   "cell_type": "code",
   "execution_count": 1,
   "metadata": {},
   "outputs": [
    {
     "name": "stderr",
     "output_type": "stream",
     "text": [
      "/home/mf/anaconda3/envs/MachineLearning/lib/python3.8/site-packages/tqdm/auto.py:22: TqdmWarning: IProgress not found. Please update jupyter and ipywidgets. See https://ipywidgets.readthedocs.io/en/stable/user_install.html\n",
      "  from .autonotebook import tqdm as notebook_tqdm\n",
      "2022-09-04 19:09:08.449279: W tensorflow/stream_executor/platform/default/dso_loader.cc:64] Could not load dynamic library 'libcudart.so.11.0'; dlerror: libcudart.so.11.0: cannot open shared object file: No such file or directory\n",
      "2022-09-04 19:09:08.449319: I tensorflow/stream_executor/cuda/cudart_stub.cc:29] Ignore above cudart dlerror if you do not have a GPU set up on your machine.\n"
     ]
    }
   ],
   "source": [
    "import networkx as nx\n",
    "import torch as th\n",
    "import torch_geometric as pyg\n",
    "\n",
    "import LPGNN"
   ]
  },
  {
   "cell_type": "code",
   "execution_count": 2,
   "metadata": {},
   "outputs": [],
   "source": [
    "PS = LPGNN.popularity_similarity.generatePSNetwork(N=100, avg_k=6, gamma=2.4, T=0.1, seed=42)\n",
    "PS_nx = nx.Graph(pyg.utils.to_networkx(PS))"
   ]
  },
  {
   "cell_type": "code",
   "execution_count": 5,
   "metadata": {},
   "outputs": [
    {
     "data": {
      "text/plain": [
       "4"
      ]
     },
     "execution_count": 5,
     "metadata": {},
     "output_type": "execute_result"
    }
   ],
   "source": [
    "LPGNN.graph_metrics.CN(PS, 0, 10)"
   ]
  },
  {
   "cell_type": "code",
   "execution_count": 19,
   "metadata": {},
   "outputs": [],
   "source": [
    "neighbor_sampler = pyg.loader.NeighborSampler(PS.edge_index, sizes=[-1])\n",
    "n_u = neighbor_sampler.sample([1,99])"
   ]
  },
  {
   "cell_type": "code",
   "execution_count": 21,
   "metadata": {},
   "outputs": [
    {
     "data": {
      "text/plain": [
       "(1,\n",
       " tensor([ 1,  0,  2,  3,  4,  5,  6,  7,  8,  9, 10, 12, 14, 17, 19, 24, 30, 31,\n",
       "         32, 35, 42, 44, 48, 50, 58, 59, 66, 72, 74, 79, 96]),\n",
       " EdgeIndex(edge_index=tensor([[ 1,  2,  3,  4,  5,  6,  7,  8,  9, 10, 11, 12, 13, 14, 15, 16, 17, 18,\n",
       "          19, 20, 21, 22, 23, 24, 25, 26, 27, 28, 29, 30],\n",
       "         [ 0,  0,  0,  0,  0,  0,  0,  0,  0,  0,  0,  0,  0,  0,  0,  0,  0,  0,\n",
       "           0,  0,  0,  0,  0,  0,  0,  0,  0,  0,  0,  0]]), e_id=tensor([  0,  87, 110, 127, 142, 162, 178, 190, 201, 215, 231, 246, 261, 274,\n",
       "         299, 331, 335, 338, 353, 382, 390, 406, 416, 449, 453, 482, 502, 508,\n",
       "         523, 577]), size=(31, 1)))"
      ]
     },
     "execution_count": 21,
     "metadata": {},
     "output_type": "execute_result"
    }
   ],
   "source": [
    "neighbor_sampler.sample([1])"
   ]
  },
  {
   "cell_type": "code",
   "execution_count": 22,
   "metadata": {},
   "outputs": [
    {
     "data": {
      "text/plain": [
       "(1,\n",
       " tensor([99,  0,  3, 29]),\n",
       " EdgeIndex(edge_index=tensor([[1, 2, 3],\n",
       "         [0, 0, 0]]), e_id=tensor([ 55, 125, 330]), size=(4, 1)))"
      ]
     },
     "execution_count": 22,
     "metadata": {},
     "output_type": "execute_result"
    }
   ],
   "source": [
    "neighbor_sampler.sample([99])"
   ]
  },
  {
   "cell_type": "code",
   "execution_count": 25,
   "metadata": {},
   "outputs": [
    {
     "data": {
      "text/plain": [
       "(3,\n",
       " tensor([ 1, 25, 85,  0,  2,  3,  4,  5,  6,  7,  8,  9, 10, 12, 14, 17, 19, 24,\n",
       "         30, 31, 32, 35, 42, 44, 48, 50, 58, 59, 66, 72, 74, 79, 96, 20, 22, 45,\n",
       "         41]),\n",
       " EdgeIndex(edge_index=tensor([[ 3,  4,  5,  6,  7,  8,  9, 10, 11, 12, 13, 14, 15, 16, 17, 18, 19, 20,\n",
       "          21, 22, 23, 24, 25, 26, 27, 28, 29, 30, 31, 32,  8, 33, 34, 35,  4,  6,\n",
       "          36],\n",
       "         [ 0,  0,  0,  0,  0,  0,  0,  0,  0,  0,  0,  0,  0,  0,  0,  0,  0,  0,\n",
       "           0,  0,  0,  0,  0,  0,  0,  0,  0,  0,  0,  0,  1,  1,  1,  1,  2,  2,\n",
       "           2]]), e_id=tensor([  0,  87, 110, 127, 142, 162, 178, 190, 201, 215, 231, 246, 261, 274,\n",
       "         299, 331, 335, 338, 353, 382, 390, 406, 416, 449, 453, 482, 502, 508,\n",
       "         523, 577, 167, 282, 290, 398, 105, 139, 379]), size=(37, 3)))"
      ]
     },
     "execution_count": 25,
     "metadata": {},
     "output_type": "execute_result"
    }
   ],
   "source": [
    "neighbor_sampler.sample([1,25,85])"
   ]
  },
  {
   "cell_type": "code",
   "execution_count": null,
   "metadata": {},
   "outputs": [],
   "source": []
  }
 ],
 "metadata": {
  "kernelspec": {
   "display_name": "Python 3.8.12 ('MachineLearning')",
   "language": "python",
   "name": "python3"
  },
  "language_info": {
   "codemirror_mode": {
    "name": "ipython",
    "version": 3
   },
   "file_extension": ".py",
   "mimetype": "text/x-python",
   "name": "python",
   "nbconvert_exporter": "python",
   "pygments_lexer": "ipython3",
   "version": "3.8.12"
  },
  "orig_nbformat": 4,
  "vscode": {
   "interpreter": {
    "hash": "9541779ff281394516091705a7614e4b3d600f65c1eabab6e2bc15f176e5eb32"
   }
  }
 },
 "nbformat": 4,
 "nbformat_minor": 2
}
